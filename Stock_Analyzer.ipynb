{
 "cells": [
  {
   "cell_type": "markdown",
   "id": "3cb1461b-e653-40ca-9c5c-c25d51b95f00",
   "metadata": {},
   "source": [
    "# Final Project: Stock Analysis  \n",
    "## Pandeli Shyta \n",
    "### Class Wed 9:30-12:15\n",
    "##### The goal for this project is to explore historical stock prices using twelvedata's api.   \n",
    "##### The questions that I will explore are as follows:\n",
    "##### 1. If a stock's price is above its 20 day moving average, what is the likelihood of a stock increasing in value after x days of consecutive up days?\n",
    "##### 2. If a stock's price is above its 20 day and 200 day moving average, what is the likelihood of a stock increasing in value after x days of consecutive up days?\n",
    "##### 3. If a stock's price is above its 20 day moving average, what is the likelihood of a stock increasing in value after x days of consecutive down days?\n",
    "##### 4. If a stock's price is above its 20 day and 200 day moving average, what is the likelihood of a stock increasing in value after x days of consecutive down days?\n",
    "##### 5. If a stock's price is below its 20 day moving average, what is the likelihood of a stock increasing in value after x days of consecutive down days and by how much?\n",
    "##### 6.  If a stock's price is below its 20 day moving average, what is the likelihood of a stock increasing in value after x days of consecutive up days and by how much?"
   ]
  },
  {
   "cell_type": "markdown",
   "id": "3cead863-a5c6-4e20-98cd-9925dcc2db03",
   "metadata": {},
   "source": [
    "## Setting up environment"
   ]
  },
  {
   "cell_type": "code",
   "execution_count": 2,
   "id": "706b71d5-3cd6-4c36-82f7-d52fd6fa8c1d",
   "metadata": {},
   "outputs": [],
   "source": [
    "# Importing modules\n",
    "import pandas as pd\n",
    "import numpy as np\n",
    "import math\n",
    "import requests\n",
    "#! pip install twelvedata[pandas]\n",
    "from twelvedata import TDClient"
   ]
  },
  {
   "cell_type": "markdown",
   "id": "61078596-c295-4e77-9f15-21d268a94a64",
   "metadata": {},
   "source": [
    "### Connecting to twelvedata as instructed from their python module"
   ]
  },
  {
   "cell_type": "code",
   "execution_count": 5,
   "id": "bdcf066e-95bd-48c3-b525-9181e09c4ae6",
   "metadata": {},
   "outputs": [
    {
     "name": "stdout",
     "output_type": "stream",
     "text": [
      "                 open       high        low      close      volume\n",
      "datetime                                                          \n",
      "2024-12-17  250.13499  253.81000  249.78999  253.48000    51055731\n",
      "2024-12-16  247.99001  251.38000  247.64999  251.03999    51694800\n",
      "2024-12-15  247.99001  251.37891  247.75000  251.03999    46018060\n",
      "2024-12-13  247.82001  249.28999  246.24001  248.13000    33155300\n",
      "2024-12-12  246.89000  248.74001  245.67999  247.96001    32777500\n",
      "...               ...        ...        ...        ...         ...\n",
      "2005-02-16    1.57411    1.61071    1.55982    1.60946  1639243200\n",
      "2005-02-15    1.54750    1.59071    1.53571    1.57875  2312217600\n",
      "2005-02-14    1.47732    1.51411    1.46518    1.51125  1271463200\n",
      "2005-02-11    1.42607    1.46000    1.40964    1.45018  1201054400\n",
      "2005-02-10    1.40571    1.41571    1.36893    1.39929  1093019200\n",
      "\n",
      "[5000 rows x 5 columns]\n"
     ]
    }
   ],
   "source": [
    "TWELVEDATA_API_KEY = \"cd4a601709984bbe87612587dc093a68\"\n",
    "\n",
    "# Initializing the client\n",
    "td = TDClient(apikey=TWELVEDATA_API_KEY)\n",
    "\n",
    "symbol = \"APPL\"\n",
    "# Construct the necessary time series\n",
    "ts = td.time_series(\n",
    "    symbol=\"AAPL\",\n",
    "    interval=\"1day\",\n",
    "    outputsize=5000,\n",
    "    timezone=\"America/New_York\",\n",
    ")\n",
    "header=f\"Raw_{symbol}_Data.csv\"\n",
    "\n",
    "# Returns pandas.DataFrame\n",
    "df = ts.as_pandas(filename=header)\n",
    "\n",
    "# Creates a csv file\n",
    "df.to_csv(header, index = False)\n",
    "\n",
    "# Prints the datafram to check for errors\n",
    "print(df)   "
   ]
  },
  {
   "cell_type": "markdown",
   "id": "c79ae2af-597a-45ff-98b2-53c2f4b31992",
   "metadata": {},
   "source": [
    "## Reading the data using various methods"
   ]
  },
  {
   "cell_type": "markdown",
   "id": "a5696887-b51d-4756-a92f-d9a770523ea0",
   "metadata": {},
   "source": [
    "### Using the .describe() method"
   ]
  },
  {
   "cell_type": "code",
   "execution_count": 9,
   "id": "96986f91-3670-4c40-8c3e-0c42220d4a9d",
   "metadata": {},
   "outputs": [
    {
     "name": "stdout",
     "output_type": "stream",
     "text": [
      "              open         high          low        close        volume\n",
      "count  5000.000000  5000.000000  5000.000000  5000.000000  5.000000e+03\n",
      "mean     53.255039    53.819935    52.720420    53.297151  3.820797e+08\n",
      "std      62.967683    63.630992    62.371136    63.041683  3.898932e+08\n",
      "min       1.221430     1.258210     1.182500     1.218930  2.404830e+07\n",
      "25%       7.358840     7.471075     7.273480     7.373658  9.981722e+07\n",
      "50%      24.895000    25.171250    24.672500    24.966250  2.255138e+08\n",
      "75%      66.755625    67.517500    66.086875    66.784375  5.503694e+08\n",
      "max     250.134990   253.810000   249.789990   253.480000  3.372970e+09\n"
     ]
    }
   ],
   "source": [
    "# We can see that there are 5000 rows which is the max. Include 'all' specifies to describe all columns\n",
    "print(df.describe(include = 'all'))"
   ]
  },
  {
   "cell_type": "markdown",
   "id": "fb63dd42-db67-4bc2-9518-1d00ebaf7d4b",
   "metadata": {},
   "source": [
    "### Checking columns using the .columns method"
   ]
  },
  {
   "cell_type": "code",
   "execution_count": 12,
   "id": "f3ad90f5-40dc-4dac-9329-d15bc6910c08",
   "metadata": {},
   "outputs": [
    {
     "data": {
      "text/plain": [
       "Index(['open', 'high', 'low', 'close', 'volume'], dtype='object')"
      ]
     },
     "execution_count": 12,
     "metadata": {},
     "output_type": "execute_result"
    }
   ],
   "source": [
    "# Simply printing out the short list of columns\n",
    "df.columns"
   ]
  },
  {
   "cell_type": "markdown",
   "id": "468038e7-23ad-4723-a03c-0f245a9332cb",
   "metadata": {},
   "source": [
    "### Checking the data type via the .dtypes method"
   ]
  },
  {
   "cell_type": "code",
   "execution_count": 15,
   "id": "2a5c4697-50fa-4226-8bfe-930dc26797ee",
   "metadata": {},
   "outputs": [
    {
     "name": "stdout",
     "output_type": "stream",
     "text": [
      "open      float64\n",
      "high      float64\n",
      "low       float64\n",
      "close     float64\n",
      "volume      int64\n",
      "dtype: object\n"
     ]
    }
   ],
   "source": [
    "# Printing the data type of each column\n",
    "print(df.dtypes)"
   ]
  },
  {
   "cell_type": "markdown",
   "id": "2bda7c8e-0105-45a0-b082-cd813cfb1bfe",
   "metadata": {},
   "source": [
    "### Using the .head() method"
   ]
  },
  {
   "cell_type": "code",
   "execution_count": 18,
   "id": "bef89942-06e1-4676-9292-9c60f3abe0de",
   "metadata": {},
   "outputs": [
    {
     "name": "stdout",
     "output_type": "stream",
     "text": [
      "                 open       high        low      close    volume\n",
      "datetime                                                        \n",
      "2024-12-17  250.13499  253.81000  249.78999  253.48000  51055731\n",
      "2024-12-16  247.99001  251.38000  247.64999  251.03999  51694800\n",
      "2024-12-15  247.99001  251.37891  247.75000  251.03999  46018060\n",
      "2024-12-13  247.82001  249.28999  246.24001  248.13000  33155300\n",
      "2024-12-12  246.89000  248.74001  245.67999  247.96001  32777500\n"
     ]
    }
   ],
   "source": [
    "# Printing the initial rows of the dataframe\n",
    "print(df.head())"
   ]
  },
  {
   "cell_type": "markdown",
   "id": "9d144a34-c35b-4244-9d2c-76668b05cca8",
   "metadata": {},
   "source": [
    "### Using the .tail() method"
   ]
  },
  {
   "cell_type": "code",
   "execution_count": 21,
   "id": "748aa94c-bd2f-4f06-a866-b00be65bc7c4",
   "metadata": {},
   "outputs": [
    {
     "name": "stdout",
     "output_type": "stream",
     "text": [
      "               open     high      low    close      volume\n",
      "datetime                                                  \n",
      "2005-02-16  1.57411  1.61071  1.55982  1.60946  1639243200\n",
      "2005-02-15  1.54750  1.59071  1.53571  1.57875  2312217600\n",
      "2005-02-14  1.47732  1.51411  1.46518  1.51125  1271463200\n",
      "2005-02-11  1.42607  1.46000  1.40964  1.45018  1201054400\n",
      "2005-02-10  1.40571  1.41571  1.36893  1.39929  1093019200\n"
     ]
    }
   ],
   "source": [
    "# Printing the last rows of the dataframe\n",
    "print(df.tail())"
   ]
  },
  {
   "cell_type": "markdown",
   "id": "0e0387ce-45c5-4d09-a516-12b34790b507",
   "metadata": {},
   "source": [
    "### Using the .sample() method"
   ]
  },
  {
   "cell_type": "code",
   "execution_count": 24,
   "id": "11bcf6ec-1d9f-40ec-a4b9-2ed41760be65",
   "metadata": {},
   "outputs": [
    {
     "name": "stdout",
     "output_type": "stream",
     "text": [
      "             open   high      low   close     volume\n",
      "datetime                                            \n",
      "2016-02-05  24.13  24.23  23.4225  23.505  185672400\n"
     ]
    }
   ],
   "source": [
    "# Printing the column names and a random row\n",
    "print(df.sample())"
   ]
  },
  {
   "cell_type": "markdown",
   "id": "54c2a616-5b5e-4824-b4e7-e386c4daff42",
   "metadata": {},
   "source": [
    "### Using the .info() method"
   ]
  },
  {
   "cell_type": "code",
   "execution_count": 27,
   "id": "97d2cee6-81e6-4dd5-9a79-206921d3cc68",
   "metadata": {},
   "outputs": [
    {
     "name": "stdout",
     "output_type": "stream",
     "text": [
      "<class 'pandas.core.frame.DataFrame'>\n",
      "DatetimeIndex: 5000 entries, 2024-12-17 to 2005-02-10\n",
      "Data columns (total 5 columns):\n",
      " #   Column  Non-Null Count  Dtype  \n",
      "---  ------  --------------  -----  \n",
      " 0   open    5000 non-null   float64\n",
      " 1   high    5000 non-null   float64\n",
      " 2   low     5000 non-null   float64\n",
      " 3   close   5000 non-null   float64\n",
      " 4   volume  5000 non-null   int64  \n",
      "dtypes: float64(4), int64(1)\n",
      "memory usage: 234.4 KB\n",
      "None\n"
     ]
    }
   ],
   "source": [
    "# Printing the general information of the dataframe\n",
    "print(df.info())"
   ]
  },
  {
   "cell_type": "markdown",
   "id": "0dafbbb4-2d06-416c-b272-49435b4ac25f",
   "metadata": {},
   "source": [
    "## Cleaning the data\n",
    "### Fortunately, the data is very simple, as it's just values. The only thing I need are extra columns for the moving averages.\n",
    "### Inserting moving average columns"
   ]
  },
  {
   "cell_type": "code",
   "execution_count": 31,
   "id": "0f42f153-edb9-4384-8940-e2c0c7e05599",
   "metadata": {},
   "outputs": [],
   "source": [
    "# Had created an unnecessarily long way of creating a new column with the moving averages.\n",
    "# Used ChatGPT to find a more efficient method.\n",
    "\n",
    "# First reseting the index as it would add the values after the last row\n",
    "original_length = 5000\n",
    "df = df.iloc[:original_length].reset_index(drop=True)\n",
    "\n",
    "# Creating empty columns for the 20 and 200 day moving averages\n",
    "df['20_day_SMA'] = None\n",
    "df['200_day_SMA'] = None\n",
    "\n",
    "# Calculating the 20 day moving average. Stops at the 19th row as you need 20 values.\n",
    "for i in range(len(df)-19):\n",
    "    df.loc[i, '20_day_SMA'] = df['close'].iloc[i:i + 20].mean()\n",
    "\n",
    "# Limiting decimal points to 5\n",
    "df['20_day_SMA'] = df['20_day_SMA'].apply(lambda x: round(x, 5) if pd.notnull(x) else x)\n",
    "\n",
    "# Calculating the 200 day moving average. Stops at the 199th row as you need 200 values.\n",
    "for i in range(len(df)-199):\n",
    "    df.loc[i, '200_day_SMA'] = df['close'].iloc[i:i + 200].mean()\n",
    "\n",
    "# Limiting decimal points to 5\n",
    "df['200_day_SMA'] = df['200_day_SMA'].apply(lambda x: round(x, 5) if pd.notnull(x) else x)"
   ]
  },
  {
   "cell_type": "markdown",
   "id": "f2a2da19-f74e-495f-9843-195ee2f9dcfc",
   "metadata": {},
   "source": [
    "### Inserting consecutive up days, consecutive down days, and price change columns"
   ]
  },
  {
   "cell_type": "code",
   "execution_count": 34,
   "id": "1c7d6223-863e-4a58-8c55-27537c4e394c",
   "metadata": {},
   "outputs": [
    {
     "name": "stdout",
     "output_type": "stream",
     "text": [
      "Index(['open', 'high', 'low', 'close', 'volume', '20_day_SMA', '200_day_SMA',\n",
      "       'consecutive_up', 'consecutive_down', 'price_change'],\n",
      "      dtype='object')\n"
     ]
    }
   ],
   "source": [
    "# Creating empty columns for the consecutive up and consecutive down days\n",
    "df['consecutive_up'] = 0\n",
    "df['consecutive_down'] = 0\n",
    "df['price_change'] = 0.0\n",
    "\n",
    "\n",
    "# printing all the column names to be sure that they have been inserted\n",
    "print(df.columns)"
   ]
  },
  {
   "cell_type": "markdown",
   "id": "e2a433e6-0ee0-4c75-842b-ab345504456f",
   "metadata": {},
   "source": [
    "### Creating a dummy first row as it gets rid of a bug where calculations for the first row aren't calculated"
   ]
  },
  {
   "cell_type": "code",
   "execution_count": 37,
   "id": "b044326b-2f57-4fe5-8e49-1e9617640e47",
   "metadata": {},
   "outputs": [],
   "source": [
    "df.loc[0, 'open'] = 0\n",
    "df.loc[0, 'high'] = 0\n",
    "df.loc[0, 'low'] = 0\n",
    "df.loc[0, 'close'] = 0\n",
    "df.loc[0, '20_day_SMA'] = 0\n",
    "df.loc[0, '200_day_SMA'] = 0\n",
    "df.loc[0, 'consecutive_up'] = 0\n",
    "df.loc[0, 'consecutive_down'] = 0\n",
    "df.loc[0, 'price_change'] = 0\n",
    "df.loc[0, 'volume'] = 0\n",
    "df.loc[0, 'volume'] = 0"
   ]
  },
  {
   "cell_type": "markdown",
   "id": "26541802-aaf4-4928-86c2-d0e884156f4a",
   "metadata": {},
   "source": [
    "### Calculating the new column values for each row"
   ]
  },
  {
   "cell_type": "code",
   "execution_count": 40,
   "id": "c7947206-eced-4d8a-a24f-5f2d84010a35",
   "metadata": {},
   "outputs": [],
   "source": [
    "\"\"\"\n",
    "*****Index for refference as inserting it in code creates bugs******\n",
    "\n",
    "todays_consecutive_up = df.loc[x, 'consecutive_up']\n",
    "todays_consecutive_down = df.loc[x, 'consecutive_down']\n",
    "todays_price_change = df.loc[x, 'price_change']\n",
    "\n",
    "yesterdays_consecutive_up = df.loc[x+1, 'consecutive_up']\n",
    "yesterdays_consecutive_down = df.loc[x+1, 'consecutive_down']\n",
    "yesterdays_price_change = df.loc[x+1, 'price_change']\n",
    "\"\"\"   \n",
    "\n",
    "# creates a reverse for loop that starts at the end of the dataframe\n",
    "for x in range(len(df)-1, 0, -1):\n",
    "    # inserting last row values manually\n",
    "    if x == 4999:\n",
    "        # price change value\n",
    "        df.loc[x, 'price_change'] = 0\n",
    "        # consecutive up value\n",
    "        df.loc[x, 'consecutive_up'] = 0\n",
    "        # consecutive down value\n",
    "        df.loc[x, 'consecutive_down'] = 0\n",
    "    else:\n",
    "        # Price change calculator\n",
    "        todays_price_change = round(df.loc[x, \"close\"] - df.loc[x+1, \"close\"], 5)\n",
    "        # inserts the price change for the day\n",
    "        df.loc[x, 'price_change'] = todays_price_change\n",
    "\n",
    "        # Checks if the price change was positive\n",
    "        if todays_price_change > 0:\n",
    "            # assigns consecutive down days tally to 0\n",
    "            df.loc[x, 'consecutive_down'] = 0\n",
    "            # starts the tally if yesterday's consecutive up tally was zero\n",
    "            if df.loc[x+1, 'consecutive_up'] == 0:\n",
    "                df.loc[x, 'consecutive_up'] = 1\n",
    "            # otherwise takes yesterday's up tally, adds 1, and then assigns it to today's tally    \n",
    "            else:\n",
    "                df.loc[x, 'consecutive_up'] = df.loc[x+1, 'consecutive_up'] + 1\n",
    "\n",
    "        # Checks if the price change was negative\n",
    "        elif todays_price_change < 0:\n",
    "            # assigns consecutive up days tally to 0\n",
    "            df.loc[x, 'consecutive_up'] = 0\n",
    "            # starts the tally if yesterday's consecutive down tally was zero\n",
    "            if df.loc[x+1, 'consecutive_down'] == 0:\n",
    "                df.loc[x, 'consecutive_down'] = 1\n",
    "            # otherwise takes yesterday's down tally, adds 1, and then assigns it to today's down tally\n",
    "            else:\n",
    "                df.loc[x, 'consecutive_down'] = df.loc[x+1, 'consecutive_down'] + 1 \n",
    "        # if there was no price change, then consecutive up and down are reset to zero           \n",
    "        else:\n",
    "            df.loc[x, 'consecutive_up'] = 0\n",
    "            df.loc[x, 'consecutive_down'] = 0\n",
    "\n",
    "# saves dataframe to csv\n",
    "df.to_csv(\"Organized_AAPL_data.csv\", index=False)"
   ]
  },
  {
   "cell_type": "markdown",
   "id": "6a3c9e51-20d8-436b-9d2e-c6c3b7f5c495",
   "metadata": {},
   "source": [
    "## Answering Questions"
   ]
  },
  {
   "cell_type": "markdown",
   "id": "44bce309-85c0-46e1-a73f-b0934c2a2e83",
   "metadata": {
    "jp-MarkdownHeadingCollapsed": true
   },
   "source": [
    "### 1. If a stock's price is above its 20 day moving average, what is the likelihood of a stock increasing in value after x days of consecutive up days?¶"
   ]
  },
  {
   "cell_type": "markdown",
   "id": "8e4782da-27b5-41a3-b0e5-120d6f09a036",
   "metadata": {},
   "source": [
    "### Creating a tally of the 20 SMA consecutive up days tallys"
   ]
  },
  {
   "cell_type": "code",
   "execution_count": 45,
   "id": "c1ee20b5-f43b-4b02-9844-26db599cca9a",
   "metadata": {},
   "outputs": [
    {
     "name": "stdout",
     "output_type": "stream",
     "text": [
      " Tally up 20 dictionary: \n",
      "{0: 1175, 3: 294, 2: 477, 1: 767, 5: 87, 4: 163, 8: 18, 7: 33, 6: 54, 11: 1, 10: 2, 9: 11}\n",
      "\n",
      " Sorted tally up 20 dictionary: \n",
      "{0: 1175, 1: 767, 2: 477, 3: 294, 4: 163, 5: 87, 6: 54, 7: 33, 8: 18, 9: 11, 10: 2, 11: 1}\n",
      "\n"
     ]
    }
   ],
   "source": [
    "# creating a dictionary that will hold the tally of the consecutive up days tally\n",
    "tally_up_20_dict = {}\n",
    "\n",
    "# Creating a for loop that checks each tally and adds it to 'tally_up_20_dict' if the key does not exist or adds 1 to the value if it does\n",
    "for x in range(len(df)):\n",
    "    # first checks if the closing price is above the 20 day simple moving average\n",
    "    if df.loc[x, 'close'] > df.loc[x, '20_day_SMA']:\n",
    "        tally = df.loc[x, 'consecutive_up']\n",
    "        # adds a tally\n",
    "        if tally in tally_up_20_dict.keys():\n",
    "            tally_up_20_dict[tally] += 1\n",
    "        # starts a tally\n",
    "        if tally not in tally_up_20_dict.keys():\n",
    "            tally_up_20_dict[tally] = 1\n",
    "\n",
    "# Reusing code from previous project. Sorts the tally_up_20_dict by frequency\n",
    "sorted_tally_up_20_dict = dict(sorted(tally_up_20_dict.items(), key=lambda x: x[1], reverse=True))\n",
    "\n",
    "# Printing to check if everything is correct\n",
    "print(f\" Tally up 20 dictionary: \\n{tally_up_20_dict}\\n\")\n",
    "\n",
    "# Printing updated 'sorted_years_dict' to check for errors\n",
    "print(f\" Sorted tally up 20 dictionary: \\n{sorted_tally_up_20_dict}\\n\")"
   ]
  },
  {
   "cell_type": "markdown",
   "id": "f07fe5cb-3277-4ee2-8c17-0523730a7ca1",
   "metadata": {},
   "source": [
    "### Creating lists that store the percent value of the probability of a stock increasing in value"
   ]
  },
  {
   "cell_type": "code",
   "execution_count": 48,
   "id": "98218c1b-8852-4ed9-a273-1dbbbe4fc267",
   "metadata": {},
   "outputs": [
    {
     "name": "stdout",
     "output_type": "stream",
     "text": [
      "[1175, 767, 477, 294, 163, 87, 54, 33, 18, 11, 2, 1]\n",
      "[65.28, 62.19, 61.64, 55.44, 53.37, 62.07, 61.11, 54.55, 61.11, 18.18, 50.0]\n"
     ]
    }
   ],
   "source": [
    "# creating empty lists\n",
    "tally_list = []\n",
    "increasing_probability_list = []\n",
    "\n",
    "# adds the values from the sorted_tally_up_20_dict to tally_list\n",
    "for tally in sorted_tally_up_20_dict.values():\n",
    "    tally_list.append(tally)\n",
    "\n",
    "# prints tally list for error checking\n",
    "print(tally_list)\n",
    "\n",
    "# calculates the probability of a stock increasing each consecutive day\n",
    "for x in range(len(tally_list)-1):\n",
    "    increasing_prabability = round((tally_list[x+1]/tally_list[x])*100, 2)\n",
    "    increasing_probability_list.append(increasing_prabability)\n",
    "\n",
    "# prints the increasing_probability_list for error checking\n",
    "print(increasing_probability_list)"
   ]
  },
  {
   "cell_type": "markdown",
   "id": "8e9aa1c5-1d5b-4ede-83b5-e662b5d2bad5",
   "metadata": {},
   "source": [
    "### Organizing the data for seaborn"
   ]
  },
  {
   "cell_type": "code",
   "execution_count": 51,
   "id": "c6ea963c-c357-48dd-b50a-04eddb88c10e",
   "metadata": {},
   "outputs": [
    {
     "name": "stdout",
     "output_type": "stream",
     "text": [
      "{'Tally Index': ['0-1', '1-2', '2-3', '3-4', '4-5', '5-6', '6-7', '7-8', '8-9', '9-10', '10-11'], 'Probability': [65.28, 62.19, 61.64, 55.44, 53.37, 62.07, 61.11, 54.55, 61.11, 18.18, 50.0]}\n"
     ]
    }
   ],
   "source": [
    "# Creating a list of the tally probability index for seaborn manually\n",
    "probability_index = [\"0-1\", \"1-2\", \"2-3\", \"3-4\", \"4-5\", \"5-6\", \"6-7\", \"7-8\", \"8-9\", \"9-10\", \"10-11\"]\n",
    "\n",
    "# Creating a new dictionary with two keys: \"tally index\" and 'frequency'\n",
    "final_tally_up_20_dict = {\"Tally Index\": probability_index, \"Probability\": increasing_probability_list}\n",
    "print(final_tally_up_20_dict)"
   ]
  },
  {
   "cell_type": "markdown",
   "id": "0232f16a-694b-422f-b965-385932d03e0d",
   "metadata": {},
   "source": [
    "### Graphing the data using Seaborn"
   ]
  },
  {
   "cell_type": "code",
   "execution_count": 54,
   "id": "3ae3e780-e604-4f9a-b8a7-e231f2144481",
   "metadata": {},
   "outputs": [
    {
     "data": {
      "image/png": "[encoded data removed]",
      "text/plain": [
       "<Figure size 640x480 with 1 Axes>"
      ]
     },
     "metadata": {},
     "output_type": "display_data"
    }
   ],
   "source": [
    "import seaborn as sns\n",
    "import matplotlib.pyplot as plt\n",
    "\n",
    "# Setting the theme\n",
    "sns.set_theme(style=\"darkgrid\")\n",
    "\n",
    "# Creating a barplot\n",
    "sns.barplot(x=\"Tally Index\", y=\"Probability\",\n",
    "             data=final_tally_up_20_dict)\n",
    "\n",
    "# Adding a title\n",
    "plt.title(\"Probability of a stock that is above its 20 day SMA increasing in value after consecutive up days\")\n",
    "\n",
    "# Adjusting the y-axis\n",
    "plt.ylim(10, 70)\n",
    "\n",
    "# Changing the x label\n",
    "plt.xlabel('Days')\n",
    "\n",
    "# Showing the graph\n",
    "plt.show()"
   ]
  },
  {
   "cell_type": "markdown",
   "id": "12767054-345d-4fd1-b00c-32e5bf897ef0",
   "metadata": {},
   "source": [
    "### 2. If a stock's price is above its 20 day and 200 day moving average, what is the likelihood of a stock increasing in value after x days of consecutive up days?"
   ]
  },
  {
   "cell_type": "markdown",
   "id": "6fea0333-b162-420d-909c-f423c6671647",
   "metadata": {},
   "source": [
    "### Creating a tally of the 20 and 200 SMA consecutive up days tallys"
   ]
  },
  {
   "cell_type": "code",
   "execution_count": 58,
   "id": "d2f66bf4-d587-4f8a-893c-82a15dff1956",
   "metadata": {},
   "outputs": [
    {
     "name": "stdout",
     "output_type": "stream",
     "text": [
      " Tally up 20 dictionary: \n",
      "{0: 986, 3: 242, 2: 390, 1: 629, 5: 76, 4: 139, 8: 16, 7: 30, 6: 49, 11: 1, 10: 2, 9: 11}\n",
      "\n",
      " Sorted tally up 20 dictionary: \n",
      "{0: 986, 1: 629, 2: 390, 3: 242, 4: 139, 5: 76, 6: 49, 7: 30, 8: 16, 9: 11, 10: 2, 11: 1}\n",
      "\n"
     ]
    }
   ],
   "source": [
    "# creating a dictionary that will hold the tally of the consecutive up days tally\n",
    "tally_up_200_dict = {}\n",
    "\n",
    "# Creating a for loop that checks each tally and adds it to 'tally_up_200_dict' if the key does not exist or adds 1 to the value if it does\n",
    "for x in range(len(df)):\n",
    "    # first checks if the closing price is above the 20 and 200 day simple moving average\n",
    "    if df.loc[x, 'close'] > df.loc[x, '20_day_SMA'] and df.loc[x, 'close'] > df.loc[x, '200_day_SMA']:\n",
    "        tally = df.loc[x, 'consecutive_up']\n",
    "        # adds a tally\n",
    "        if tally in tally_up_200_dict.keys():\n",
    "            tally_up_200_dict[tally] += 1\n",
    "        # starts a tally\n",
    "        if tally not in tally_up_200_dict.keys():\n",
    "            tally_up_200_dict[tally] = 1\n",
    "\n",
    "# Reusing code from previous project. Sorts the tally_up_200_dict by frequency\n",
    "sorted_tally_up_200_dict = dict(sorted(tally_up_200_dict.items(), key=lambda x: x[1], reverse=True))\n",
    "\n",
    "# Printing to check if everything is correct\n",
    "print(f\" Tally up 20 dictionary: \\n{tally_up_200_dict}\\n\")\n",
    "\n",
    "# Printing updated 'sorted_years_dict' to check for errors\n",
    "print(f\" Sorted tally up 20 dictionary: \\n{sorted_tally_up_200_dict}\\n\")"
   ]
  },
  {
   "cell_type": "markdown",
   "id": "db6316b8-26e5-4189-aa07-465fb5e70412",
   "metadata": {},
   "source": [
    "### Creating lists that store the percent value of the probability of a stock increasing in value"
   ]
  },
  {
   "cell_type": "code",
   "execution_count": 61,
   "id": "eba8e601-8098-43db-9f45-c466a65f183b",
   "metadata": {},
   "outputs": [
    {
     "name": "stdout",
     "output_type": "stream",
     "text": [
      "[986, 629, 390, 242, 139, 76, 49, 30, 16, 11, 2, 1]\n",
      "[63.79, 62.0, 62.05, 57.44, 54.68, 64.47, 61.22, 53.33, 68.75, 18.18, 50.0]\n"
     ]
    }
   ],
   "source": [
    "# creating empty lists\n",
    "tally_list_200 = []\n",
    "increasing_probability_list_200 = []\n",
    "\n",
    "# adds the values from the sorted_tally_up_200_dict to tally_list\n",
    "for tally in sorted_tally_up_200_dict.values():\n",
    "    tally_list_200.append(tally)\n",
    "\n",
    "# prints tally list for error checking\n",
    "print(tally_list_200)\n",
    "\n",
    "# calculates the probability of a stock increasing each consecutive day\n",
    "for x in range(len(tally_list_200)-1):\n",
    "    increasing_prabability = round((tally_list_200[x+1]/tally_list_200[x])*100, 2)\n",
    "    increasing_probability_list_200.append(increasing_prabability)\n",
    "\n",
    "# prints the increasing_probability_list for error checking\n",
    "print(increasing_probability_list_200)"
   ]
  },
  {
   "cell_type": "markdown",
   "id": "b5768e59-0655-4b19-a401-ff4275503bbc",
   "metadata": {},
   "source": [
    "### Organizing the data for seaborn"
   ]
  },
  {
   "cell_type": "code",
   "execution_count": 64,
   "id": "4b9811b9-cbb1-41cc-9480-4975e9c70337",
   "metadata": {},
   "outputs": [
    {
     "name": "stdout",
     "output_type": "stream",
     "text": [
      "{'Tally Index': ['0-1', '1-2', '2-3', '3-4', '4-5', '5-6', '6-7', '7-8', '8-9', '9-10', '10-11'], 'Probability': [63.79, 62.0, 62.05, 57.44, 54.68, 64.47, 61.22, 53.33, 68.75, 18.18, 50.0]}\n"
     ]
    }
   ],
   "source": [
    "# Creating a list of the tally probability index for seaborn manually\n",
    "probability_index = [\"0-1\", \"1-2\", \"2-3\", \"3-4\", \"4-5\", \"5-6\", \"6-7\", \"7-8\", \"8-9\", \"9-10\", \"10-11\"]\n",
    "\n",
    "# Creating a new dictionary with two keys: \"tally index\" and 'frequency'\n",
    "final_tally_up_200_dict = {\"Tally Index\": probability_index, \"Probability\": increasing_probability_list_200}\n",
    "\n",
    "# printing dictionary to check for errors\n",
    "print(final_tally_up_200_dict)"
   ]
  },
  {
   "cell_type": "markdown",
   "id": "ad50a948-50f7-47b9-8aa9-4d5e7436e732",
   "metadata": {},
   "source": [
    "### Graphing the data using Seaborn"
   ]
  },
  {
   "cell_type": "code",
   "execution_count": 67,
   "id": "9b274e9d-00c9-4f5e-a3f7-ac761d6f4cfe",
   "metadata": {},
   "outputs": [
    {
     "data": {
      "image/png": "[encoded data removed]",
      "text/plain": [
       "<Figure size 640x480 with 1 Axes>"
      ]
     },
     "metadata": {},
     "output_type": "display_data"
    }
   ],
   "source": [
    "# setting the theme\n",
    "sns.set_theme(style=\"darkgrid\")\n",
    "\n",
    "# Creating the barplot\n",
    "sns.barplot(x=\"Tally Index\", y=\"Probability\",\n",
    "             data=final_tally_up_200_dict)\n",
    "\n",
    "# Adding a title\n",
    "plt.title(\"Probability of a stock that is above its 20 & 200 day SMA, increasing in value after consecutive up days\")\n",
    "\n",
    "# Adjusting the y-axis\n",
    "plt.ylim(10, 70)\n",
    "\n",
    "# Changing the x label\n",
    "plt.xlabel('Days')\n",
    "\n",
    "# Showing the graph\n",
    "plt.show()"
   ]
  },
  {
   "cell_type": "markdown",
   "id": "33411098-554d-4ab2-9cd2-adf89e6014ce",
   "metadata": {},
   "source": [
    "### Question 3: If a stock's price is above its 20 day moving average, what is the likelihood of a stock increasing in value after x days of consecutive down days?"
   ]
  },
  {
   "cell_type": "markdown",
   "id": "0cab79f1-a906-48b2-b154-9412250a0688",
   "metadata": {},
   "source": [
    "### Creating a tally of the 20 SMA consecutive down days tallys"
   ]
  },
  {
   "cell_type": "code",
   "execution_count": 71,
   "id": "14d709de-211f-427c-b68a-c4acbdc38a33",
   "metadata": {},
   "outputs": [
    {
     "name": "stdout",
     "output_type": "stream",
     "text": [
      " Tally down 20 dictionary: \n",
      "{0: 1918, 1: 759, 3: 96, 2: 281, 5: 5, 4: 21, 6: 2}\n",
      "\n",
      " Sorted tally down 20 dictionary: \n",
      "{0: 1918, 1: 759, 2: 281, 3: 96, 4: 21, 5: 5, 6: 2}\n",
      "\n"
     ]
    }
   ],
   "source": [
    "# creating a dictionary that will hold the tally of the consecutive down days tally\n",
    "tally_down_20_dict = {}\n",
    "\n",
    "# Creating a for loop that checks each tally and adds it to 'tally_down_20_dict' if the key does not exist or adds 1 to the value if it does\n",
    "for x in range(len(df)):\n",
    "    # first checks if the closing price is above the 20 day simple moving average\n",
    "    if df.loc[x, 'close'] > df.loc[x, '20_day_SMA']:\n",
    "        tally = df.loc[x, 'consecutive_down']\n",
    "        # adds a tally\n",
    "        if tally in tally_down_20_dict.keys():\n",
    "            tally_down_20_dict[tally] += 1\n",
    "        # starts a tally\n",
    "        if tally not in tally_down_20_dict.keys():\n",
    "            tally_down_20_dict[tally] = 1\n",
    "\n",
    "# Reusing code from previous project. Sorts the tally_down_20_dict by frequency\n",
    "sorted_tally_down_20_dict = dict(sorted(tally_down_20_dict.items(), key=lambda x: x[1], reverse=True))\n",
    "\n",
    "# Printing to check if everything is correct\n",
    "print(f\" Tally down 20 dictionary: \\n{tally_down_20_dict}\\n\")\n",
    "\n",
    "# Printing updated 'sorted_years_dict' to check for errors\n",
    "print(f\" Sorted tally down 20 dictionary: \\n{sorted_tally_down_20_dict}\\n\")"
   ]
  },
  {
   "cell_type": "markdown",
   "id": "82f4b041-d18b-48f6-87c8-546572824303",
   "metadata": {},
   "source": [
    "### Creating lists that store the percent value of the probability of a stock increasing in value"
   ]
  },
  {
   "cell_type": "code",
   "execution_count": 74,
   "id": "83b6fa5c-42fc-4ef7-9564-53215476473b",
   "metadata": {},
   "outputs": [
    {
     "name": "stdout",
     "output_type": "stream",
     "text": [
      "[1918, 759, 281, 96, 21, 5, 2]\n",
      "[60.43, 62.98, 65.84, 78.12, 76.19, 60.0]\n"
     ]
    }
   ],
   "source": [
    "# creating empty lists\n",
    "tally_list = []\n",
    "increasing_probability_list = []\n",
    "\n",
    "# adds the values from the sorted_tally_down_20_dict to tally_list\n",
    "for tally in sorted_tally_down_20_dict.values():\n",
    "    tally_list.append(tally)\n",
    "\n",
    "# prints tally list for error checking\n",
    "print(tally_list)\n",
    "\n",
    "# calculates the probability of a stock increasing each consecutive day\n",
    "for x in range(len(tally_list)-1):\n",
    "    decreasing_probability = round((tally_list[x+1]/tally_list[x])*100, 2) \n",
    "    increasing_probability = 100 - decreasing_probability\n",
    "    increasing_probability_list.append(increasing_probability)\n",
    "\n",
    "# prints the increasing_probability_list for error checking\n",
    "print(increasing_probability_list)"
   ]
  },
  {
   "cell_type": "markdown",
   "id": "4a8357d0-c2bc-490a-9cb4-1c1a852d2b2d",
   "metadata": {},
   "source": [
    "### Organizing the data for seaborn"
   ]
  },
  {
   "cell_type": "code",
   "execution_count": 77,
   "id": "05c9e8f1-d3c4-4a04-8049-e638b8ae76de",
   "metadata": {},
   "outputs": [
    {
     "name": "stdout",
     "output_type": "stream",
     "text": [
      "{'Tally Index': ['0-1', '1-2', '2-3', '3-4', '4-5', '5-6'], 'Probability': [60.43, 62.98, 65.84, 78.12, 76.19, 60.0]}\n"
     ]
    }
   ],
   "source": [
    "# Creating a list of the tally probability index for seaborn manually\n",
    "probability_index = [\"0-1\", \"1-2\", \"2-3\", \"3-4\", \"4-5\", \"5-6\"]\n",
    "\n",
    "# Creating a new dictionary with two keys: \"tally index\" and 'frequency'\n",
    "final_tally_down_20_dict = {\"Tally Index\": probability_index, \"Probability\": increasing_probability_list}\n",
    "print(final_tally_down_20_dict)"
   ]
  },
  {
   "cell_type": "markdown",
   "id": "8e4f5835-6b3c-4d71-8ddc-a5dfe49d4f74",
   "metadata": {},
   "source": [
    "### Graphing the data using Seaborn"
   ]
  },
  {
   "cell_type": "code",
   "execution_count": 80,
   "id": "ef4028d3-76a1-4dbc-97f3-36ca4b552b4c",
   "metadata": {},
   "outputs": [
    {
     "data": {
      "image/png": "[encoded data removed]",
      "text/plain": [
       "<Figure size 640x480 with 1 Axes>"
      ]
     },
     "metadata": {},
     "output_type": "display_data"
    }
   ],
   "source": [
    "# setting the theme\n",
    "sns.set_theme(style=\"darkgrid\")\n",
    "\n",
    "# Creating the baroplot\n",
    "sns.barplot(x=\"Tally Index\", y=\"Probability\",\n",
    "             data=final_tally_down_20_dict)\n",
    "\n",
    "# Adding a title\n",
    "plt.title(\"Probability of a stock that is above its 20 day SMA increasing in value after consecutive down days\")\n",
    "\n",
    "# Adjusting the y-axis\n",
    "plt.ylim(55, 80)\n",
    "\n",
    "# Changing the x label\n",
    "plt.xlabel('Days')\n",
    "\n",
    "# Showing the graph\n",
    "plt.show()"
   ]
  },
  {
   "cell_type": "markdown",
   "id": "93abd590-68d7-4b5c-b351-cb6307c0d42c",
   "metadata": {},
   "source": [
    "### Question 4: If a stock's price is above its 20 day and 200 day moving average, what is the likelihood of a stock increasing in value after x days of consecutive down days?"
   ]
  },
  {
   "cell_type": "code",
   "execution_count": 83,
   "id": "028141c5-5a53-4a37-a988-2a96c1d7d25f",
   "metadata": {},
   "outputs": [
    {
     "name": "stdout",
     "output_type": "stream",
     "text": [
      " Tally down 200 dictionary: \n",
      "{0: 1593, 1: 632, 3: 83, 2: 238, 5: 5, 4: 18, 6: 2}\n",
      "\n",
      " Sorted tally down 200 dictionary: \n",
      "{0: 1593, 1: 632, 2: 238, 3: 83, 4: 18, 5: 5, 6: 2}\n",
      "\n"
     ]
    }
   ],
   "source": [
    "# creating a dictionary that will hold the tally of the consecutive down days tally\n",
    "tally_down_200_dict = {}\n",
    "\n",
    "# Creating a for loop that checks each tally and adds it to 'tally_down_200_dict' if the key does not exist or adds 1 to the value if it does\n",
    "for x in range(len(df)):\n",
    "    # first checks if the closing price is above the 20 and 200 day simple moving average\n",
    "    if df.loc[x, 'close'] > df.loc[x, '20_day_SMA'] and df.loc[x, 'close'] > df.loc[x, '200_day_SMA']:\n",
    "        tally = df.loc[x, 'consecutive_down']\n",
    "        # adds a tally\n",
    "        if tally in tally_down_200_dict.keys():\n",
    "            tally_down_200_dict[tally] += 1\n",
    "        # starts a tally\n",
    "        if tally not in tally_down_200_dict.keys():\n",
    "            tally_down_200_dict[tally] = 1\n",
    "\n",
    "# Reusing code from previous project. Sorts the tally_up_200_dict by frequency\n",
    "sorted_tally_down_200_dict = dict(sorted(tally_down_200_dict.items(), key=lambda x: x[1], reverse=True))\n",
    "\n",
    "# Printing to check if everything is correct\n",
    "print(f\" Tally down 200 dictionary: \\n{tally_down_200_dict}\\n\")\n",
    "\n",
    "# Printing updated 'sorted_tally_down_200_dict' to check for errors\n",
    "print(f\" Sorted tally down 200 dictionary: \\n{sorted_tally_down_200_dict}\\n\")"
   ]
  },
  {
   "cell_type": "markdown",
   "id": "24e6e369-a4f6-4b86-8211-44b331135913",
   "metadata": {},
   "source": [
    "### Creating lists that store the percent value of the probability of a stock increasing in value"
   ]
  },
  {
   "cell_type": "code",
   "execution_count": 86,
   "id": "0e6a94cd-ad91-4939-b59b-45345870a190",
   "metadata": {},
   "outputs": [
    {
     "name": "stdout",
     "output_type": "stream",
     "text": [
      "[1593, 632, 238, 83, 18, 5, 2]\n",
      "[60.33, 62.34, 65.13, 78.31, 72.22, 60.0]\n"
     ]
    }
   ],
   "source": [
    "# creating empty lists\n",
    "tally_list_200 = []\n",
    "increasing_probability_list_200 = []\n",
    "\n",
    "# adds the values from the sorted_tally_down_200_dict to tally_list_200\n",
    "for tally in sorted_tally_down_200_dict.values():\n",
    "    tally_list_200.append(tally)\n",
    "\n",
    "# prints tally list for error checking\n",
    "print(tally_list_200)\n",
    "\n",
    "# calculates the probability of a stock increasing each consecutive day\n",
    "for x in range(len(tally_list_200)-1):\n",
    "    decreasing_probability = round((tally_list_200[x+1]/tally_list_200[x])*100, 2)\n",
    "    increasing_probability = 100 - decreasing_probability\n",
    "    increasing_probability_list_200.append(increasing_probability)\n",
    "\n",
    "# prints the increasing_probability_list for error checking\n",
    "print(increasing_probability_list_200)"
   ]
  },
  {
   "cell_type": "markdown",
   "id": "bb8af9f3-8646-40e1-bda9-9c8b16a75ac3",
   "metadata": {},
   "source": [
    "### Organizing the data for seaborn"
   ]
  },
  {
   "cell_type": "code",
   "execution_count": 89,
   "id": "43c77dd9-b675-4e47-8d3a-5550ba35bb2f",
   "metadata": {},
   "outputs": [
    {
     "name": "stdout",
     "output_type": "stream",
     "text": [
      "{'Tally Index': ['0-1', '1-2', '2-3', '3-4', '4-5', '5-6'], 'Probability': [60.33, 62.34, 65.13, 78.31, 72.22, 60.0]}\n"
     ]
    }
   ],
   "source": [
    "# Creating a new dictionary with two keys: \"tally index\" and 'frequency'\n",
    "final_tally_down_200_dict = {\"Tally Index\": probability_index, \"Probability\": increasing_probability_list_200}\n",
    "print(final_tally_down_200_dict)"
   ]
  },
  {
   "cell_type": "markdown",
   "id": "fd21aa2c-6225-468c-934e-fb7f9e326ec3",
   "metadata": {},
   "source": [
    "### Graphing the data using Seaborn"
   ]
  },
  {
   "cell_type": "code",
   "execution_count": 92,
   "id": "d313741d-390c-40f3-aeaa-6948b4f53366",
   "metadata": {},
   "outputs": [
    {
     "data": {
      "image/png": "[encoded data removed]",
      "text/plain": [
       "<Figure size 640x480 with 1 Axes>"
      ]
     },
     "metadata": {},
     "output_type": "display_data"
    }
   ],
   "source": [
    "# setting the theme\n",
    "sns.set_theme(style=\"darkgrid\")\n",
    "\n",
    "# Creating the barplot\n",
    "sns.barplot(x=\"Tally Index\", y=\"Probability\",\n",
    "             data=final_tally_down_200_dict)\n",
    "\n",
    "# Adding a title\n",
    "plt.title(\"Probability of a stock that is above its 20 & 200 day SMA increasing in value after consecutive down days\")\n",
    "\n",
    "# Adjusting the y-axis\n",
    "plt.ylim(55, 80)\n",
    "\n",
    "# Changing the x label\n",
    "plt.xlabel('Days')\n",
    "\n",
    "# Showing the graph\n",
    "plt.show()"
   ]
  },
  {
   "cell_type": "markdown",
   "id": "aea49f10-f428-4f8f-8819-8e7c4dec2bfb",
   "metadata": {},
   "source": [
    "### Question 5: If a stock's price is below its 20 day moving average, what is the likelihood of a stock increasing in value after x days of consecutive down days and by how much?"
   ]
  },
  {
   "cell_type": "code",
   "execution_count": 95,
   "id": "12ffa9ff-e0ba-4fd8-a6cc-70369c0a8825",
   "metadata": {},
   "outputs": [
    {
     "name": "stdout",
     "output_type": "stream",
     "text": [
      " Tally down 20 dictionary: \n",
      "{1: 495, 0: 728, 2: 320, 4: 99, 3: 188, 5: 45, 7: 7, 6: 14, 8: 2}\n",
      "\n",
      " Sorted tally down 20 dictionary: \n",
      "{0: 728, 1: 495, 2: 320, 3: 188, 4: 99, 5: 45, 6: 14, 7: 7, 8: 2}\n",
      "\n"
     ]
    }
   ],
   "source": [
    "# creating a dictionary that will hold the tally of the consecutive down days tally\n",
    "tally_down_20_dict = {}\n",
    "\n",
    "# Creating a for loop that checks each tally and adds it to 'tally_down_20_dict' if the key does not exist or adds 1 to the value if it does\n",
    "for x in range(len(df)):\n",
    "    # first checks if the closing price is below the 20 day simple moving average\n",
    "    if df.loc[x, 'close'] < df.loc[x, '20_day_SMA']:\n",
    "        tally = df.loc[x, 'consecutive_down']\n",
    "        # adds a tally\n",
    "        if tally in tally_down_20_dict.keys():\n",
    "            tally_down_20_dict[tally] += 1\n",
    "        # starts a tally\n",
    "        if tally not in tally_down_20_dict.keys():\n",
    "            tally_down_20_dict[tally] = 1\n",
    "\n",
    "# Reusing code from previous project. Sorts the tally_down_20_dict by frequency\n",
    "sorted_tally_down_20_dict = dict(sorted(tally_down_20_dict.items(), key=lambda x: x[1], reverse=True))\n",
    "\n",
    "# Printing to check if everything is correct\n",
    "print(f\" Tally down 20 dictionary: \\n{tally_down_20_dict}\\n\")\n",
    "\n",
    "# Printing updated 'sorted_tally_down_20_dict' to check for errors\n",
    "print(f\" Sorted tally down 20 dictionary: \\n{sorted_tally_down_20_dict}\\n\")"
   ]
  },
  {
   "cell_type": "markdown",
   "id": "148483fc-292b-48b6-ba58-8a75d2977ab9",
   "metadata": {},
   "source": [
    "### Creating lists that store the percent value of the probability of a stock increasing in value"
   ]
  },
  {
   "cell_type": "code",
   "execution_count": 98,
   "id": "91afe64e-ab3d-41de-bf7b-af0eaf9624fd",
   "metadata": {},
   "outputs": [
    {
     "name": "stdout",
     "output_type": "stream",
     "text": [
      "[728, 495, 320, 188, 99, 45, 14, 7, 2]\n",
      "[32.01, 35.35, 41.25, 47.34, 54.55, 68.89, 50.0, 71.43]\n"
     ]
    }
   ],
   "source": [
    "# creating empty lists\n",
    "tally_list = []\n",
    "increasing_probability_list = []\n",
    "\n",
    "# adds the values from the sorted_tally_down_20_dict to tally_list\n",
    "for tally in sorted_tally_down_20_dict.values():\n",
    "    tally_list.append(tally)\n",
    "\n",
    "# prints tally list for error checking\n",
    "print(tally_list)\n",
    "\n",
    "# calculates the probability of a stock increasing each consecutive day\n",
    "for x in range(len(tally_list)-1):\n",
    "    decreasing_probability = round((tally_list[x+1]/tally_list[x])*100, 2) \n",
    "    increasing_probability = 100 - decreasing_probability\n",
    "    increasing_probability_list.append(round(increasing_probability, 2))\n",
    "\n",
    "# prints the increasing_probability_list for error checking\n",
    "print(increasing_probability_list)"
   ]
  },
  {
   "cell_type": "markdown",
   "id": "555c5528-0b79-4ed5-bf14-82697a38ffbc",
   "metadata": {},
   "source": [
    "### Organizing the data for seaborn"
   ]
  },
  {
   "cell_type": "code",
   "execution_count": 101,
   "id": "ff1c8088-bb4d-455c-8e97-ba2cb891526f",
   "metadata": {},
   "outputs": [
    {
     "name": "stdout",
     "output_type": "stream",
     "text": [
      "{'Tally Index': ['0-1', '1-2', '2-3', '3-4', '4-5', '5-6', '6-7', '7-8'], 'Probability': [32.01, 35.35, 41.25, 47.34, 54.55, 68.89, 50.0, 71.43]}\n"
     ]
    }
   ],
   "source": [
    "# Creating a list of the tally probability index for seaborn manually\n",
    "probability_index = [\"0-1\", \"1-2\", \"2-3\", \"3-4\", \"4-5\", \"5-6\", \"6-7\", \"7-8\"]\n",
    "\n",
    "# Creating a new dictionary with two keys: \"tally index\" and 'frequency'\n",
    "final_tally_down_20_dict = {\"Tally Index\": probability_index, \"Probability\": increasing_probability_list}\n",
    "print(final_tally_down_20_dict)"
   ]
  },
  {
   "cell_type": "markdown",
   "id": "48c888df-ba2a-40b5-aa83-5b594ded3630",
   "metadata": {},
   "source": [
    "### Graphing the data using Seaborn"
   ]
  },
  {
   "cell_type": "code",
   "execution_count": 104,
   "id": "01e27bf7-54e5-40ac-9b66-070eb7ec83f1",
   "metadata": {},
   "outputs": [
    {
     "data": {
      "image/png": "[encoded data removed]",
      "text/plain": [
       "<Figure size 640x480 with 1 Axes>"
      ]
     },
     "metadata": {},
     "output_type": "display_data"
    }
   ],
   "source": [
    "# setting the theme\n",
    "sns.set_theme(style=\"darkgrid\")\n",
    "\n",
    "# Creating the barplot\n",
    "sns.barplot(x=\"Tally Index\", y=\"Probability\",\n",
    "             data=final_tally_down_20_dict)\n",
    "\n",
    "# Adding a title\n",
    "plt.title(\"Probability of a stock that is below its 20 day SMA increasing in value after consecutive down days\")\n",
    "\n",
    "# Adjusting the y-axis\n",
    "plt.ylim(25, 80)\n",
    "\n",
    "# Changing the x label\n",
    "plt.xlabel('Days')\n",
    "\n",
    "# Showing the graph\n",
    "plt.show()"
   ]
  },
  {
   "cell_type": "markdown",
   "id": "4414c213-350c-490a-bf70-49c278a73b92",
   "metadata": {},
   "source": [
    "### Question 6: If a stock's price is below its 20 day moving average, what is the likelihood of a stock increasing in value after x days of consecutive up days and by how much?"
   ]
  },
  {
   "cell_type": "code",
   "execution_count": 107,
   "id": "68b09b61-98a9-4067-8e6f-d53be73c8bc3",
   "metadata": {},
   "outputs": [
    {
     "name": "stdout",
     "output_type": "stream",
     "text": [
      " Tally up 20 dictionary: \n",
      "{0: 1174, 2: 164, 1: 491, 4: 11, 3: 55, 5: 2, 6: 1}\n",
      "\n",
      " Sorted tally up 20 dictionary: \n",
      "{0: 1174, 1: 491, 2: 164, 3: 55, 4: 11, 5: 2, 6: 1}\n",
      "\n"
     ]
    }
   ],
   "source": [
    "# creating a dictionary that will hold the tally of the consecutive up days tally\n",
    "tally_up_20_dict = {}\n",
    "\n",
    "# Creating a for loop that checks each tally and adds it to 'tally_up_20_dict' if the key does not exist or adds 1 to the value if it does\n",
    "for x in range(len(df)):\n",
    "    # first checks if the closing price is below the 20 day simple moving average\n",
    "    if df.loc[x, 'close'] < df.loc[x, '20_day_SMA']:\n",
    "        tally = df.loc[x, 'consecutive_up']\n",
    "        # adds a tally\n",
    "        if tally in tally_up_20_dict.keys():\n",
    "            tally_up_20_dict[tally] += 1\n",
    "        # starts a tally\n",
    "        if tally not in tally_up_20_dict.keys():\n",
    "            tally_up_20_dict[tally] = 1\n",
    "\n",
    "# Reusing code from previous project. Sorts the tally_up_20_dict by frequency\n",
    "sorted_tally_up_20_dict = dict(sorted(tally_up_20_dict.items(), key=lambda x: x[1], reverse=True))\n",
    "\n",
    "# Printing to check if everything is correct\n",
    "print(f\" Tally up 20 dictionary: \\n{tally_up_20_dict}\\n\")\n",
    "\n",
    "# Printing updated 'sorted_years_dict' to check for errors\n",
    "print(f\" Sorted tally up 20 dictionary: \\n{sorted_tally_up_20_dict}\\n\")"
   ]
  },
  {
   "cell_type": "markdown",
   "id": "7019e273-79b4-4510-95a4-75dd32f7b4ee",
   "metadata": {},
   "source": [
    "### Creating lists that store the percent value of the probability of a stock increasing in value"
   ]
  },
  {
   "cell_type": "code",
   "execution_count": 110,
   "id": "5c6d34e2-2e84-4f0d-9873-bc91715f1db0",
   "metadata": {},
   "outputs": [
    {
     "name": "stdout",
     "output_type": "stream",
     "text": [
      "[1174, 491, 164, 55, 11, 2, 1]\n",
      "[41.82, 33.4, 33.54, 20.0, 18.18, 50.0]\n"
     ]
    }
   ],
   "source": [
    "# creating empty lists\n",
    "tally_list = []\n",
    "increasing_probability_list = []\n",
    "\n",
    "# adds the values from the sorted_tally_up_20_dict to tally_list\n",
    "for tally in sorted_tally_up_20_dict.values():\n",
    "    tally_list.append(tally)\n",
    "\n",
    "# prints tally list for error checking\n",
    "print(tally_list)\n",
    "\n",
    "# calculates the probability of a stock increasing each consecutive day\n",
    "for x in range(len(tally_list)-1):\n",
    "    increasing_prabability = round((tally_list[x+1]/tally_list[x])*100, 2)\n",
    "    increasing_probability_list.append(increasing_prabability)\n",
    "\n",
    "# prints the increasing_probability_list for error checking\n",
    "print(increasing_probability_list)"
   ]
  },
  {
   "cell_type": "markdown",
   "id": "1dff5681-2e53-4f1e-96e2-97038a9142fa",
   "metadata": {},
   "source": [
    "### Organizing the data for seaborn"
   ]
  },
  {
   "cell_type": "code",
   "execution_count": 113,
   "id": "3b2033fd-b239-4908-b628-67f205b2dcc3",
   "metadata": {},
   "outputs": [
    {
     "name": "stdout",
     "output_type": "stream",
     "text": [
      "{'Tally Index': ['0-1', '1-2', '2-3', '3-4', '4-5', '5-6'], 'Probability': [41.82, 33.4, 33.54, 20.0, 18.18, 50.0]}\n"
     ]
    }
   ],
   "source": [
    "# Creating a list of the tally probability index for seaborn manually\n",
    "probability_index = [\"0-1\", \"1-2\", \"2-3\", \"3-4\", \"4-5\", \"5-6\"]\n",
    "\n",
    "# Creating a new dictionary with two keys: \"tally index\" and 'frequency'\n",
    "final_tally_up_20_dict = {\"Tally Index\": probability_index, \"Probability\": increasing_probability_list}\n",
    "print(final_tally_up_20_dict)"
   ]
  },
  {
   "cell_type": "markdown",
   "id": "2d6c2216-d562-4ef7-97fc-ccd3be8f4b42",
   "metadata": {},
   "source": [
    "### Graphing the data using Seaborn"
   ]
  },
  {
   "cell_type": "code",
   "execution_count": 116,
   "id": "8eb3d948-2b4c-4c0c-8516-93525aea2b2a",
   "metadata": {},
   "outputs": [
    {
     "data": {
      "image/png": "[encoded data removed]",
      "text/plain": [
       "<Figure size 640x480 with 1 Axes>"
      ]
     },
     "metadata": {},
     "output_type": "display_data"
    }
   ],
   "source": [
    "# setting the theme\n",
    "sns.set_theme(style=\"darkgrid\")\n",
    "\n",
    "# Creating the barplot\n",
    "sns.barplot(x=\"Tally Index\", y=\"Probability\",\n",
    "             data=final_tally_up_20_dict)\n",
    "\n",
    "# Adding a title\n",
    "plt.title(\"Probability of a stock that is below its 20 day SMA increasing in value after consecutive up days\")\n",
    "\n",
    "# Adjusting the y-axis\n",
    "plt.ylim(15, 55)\n",
    "\n",
    "# Changing the x label\n",
    "plt.xlabel('Days')\n",
    "\n",
    "# Showing the graph\n",
    "plt.show()"
   ]
  }
 ],
 "metadata": {
  "kernelspec": {
   "display_name": "Python 3 (ipykernel)",
   "language": "python",
   "name": "python3"
  },
  "language_info": {
   "codemirror_mode": {
    "name": "ipython",
    "version": 3
   },
   "file_extension": ".py",
   "mimetype": "text/x-python",
   "name": "python",
   "nbconvert_exporter": "python",
   "pygments_lexer": "ipython3",
   "version": "3.12.4"
  }
 },
 "nbformat": 4,
 "nbformat_minor": 5
}
